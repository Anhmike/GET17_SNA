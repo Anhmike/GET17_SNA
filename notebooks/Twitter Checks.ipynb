{
 "cells": [
  {
   "cell_type": "code",
   "execution_count": 1,
   "metadata": {
    "collapsed": true
   },
   "outputs": [],
   "source": [
    "%matplotlib inline\n",
    "\n",
    "import tweepy as tw\n",
    "import json\n",
    "import pandas as pd\n",
    "import numpy as np\n",
    "\n",
    "from collections import defaultdict, Counter\n",
    "import os\n",
    "from IPython.display import clear_output\n",
    "\n",
    "import networkx as nx\n",
    "\n",
    "\n",
    "import matplotlib.pyplot as plt\n",
    "import seaborn as sns\n",
    "\n",
    "from io import StringIO\n",
    "from pydotplus import graph_from_dot_data\n",
    "import matplotlib.image as mpimg"
   ]
  },
  {
   "cell_type": "code",
   "execution_count": 41,
   "metadata": {
    "collapsed": true
   },
   "outputs": [],
   "source": [
    "sns.set_context(\"poster\")\n",
    "sns.set_style(\"ticks\")"
   ]
  },
  {
   "cell_type": "code",
   "execution_count": 2,
   "metadata": {
    "collapsed": true
   },
   "outputs": [],
   "source": [
    "DATA_DIR=\"../data\"\n",
    "TWITTER_CONFIG_FILE=os.path.join(DATA_DIR, \"twitter_config.json\")"
   ]
  },
  {
   "cell_type": "code",
   "execution_count": 3,
   "metadata": {
    "collapsed": true
   },
   "outputs": [],
   "source": [
    "if not os.path.isfile(TWITTER_CONFIG_FILE):\n",
    "    with open(os.path.join(DATA_DIR, \"twitter_config.sample.json\")) as fp:\n",
    "        creds = json.load(fp)\n",
    "        for k in sorted(creds.keys()):\n",
    "            v = input(\"Enter %s:\\t\" % k)\n",
    "            creds[k] = v\n",
    "    print(creds)\n",
    "    with open(TWITTER_CONFIG_FILE, \"w+\") as fp:\n",
    "        json.dump(creds, fp, indent=4, sort_keys=True)\n",
    "    clear_output()\n",
    "    print(\"Printed credentials to file %s\" % TWITTER_CONFIG_FILE)"
   ]
  },
  {
   "cell_type": "code",
   "execution_count": 4,
   "metadata": {},
   "outputs": [
    {
     "name": "stdout",
     "output_type": "stream",
     "text": [
      "dict_keys(['access_token', 'access_token_secret', 'consumer_key', 'consumer_secret'])\n"
     ]
    }
   ],
   "source": [
    "with open(TWITTER_CONFIG_FILE) as fp:\n",
    "    creds = json.load(fp)\n",
    "print(creds.keys())"
   ]
  },
  {
   "cell_type": "code",
   "execution_count": 5,
   "metadata": {},
   "outputs": [
    {
     "name": "stdout",
     "output_type": "stream",
     "text": [
      "Tweepy ready for search\n"
     ]
    }
   ],
   "source": [
    "auth = tw.OAuthHandler(creds[\"consumer_key\"], creds[\"consumer_secret\"])\n",
    "auth.set_access_token(creds[\"access_token\"], creds[\"access_token_secret\"])\n",
    "api = tw.API(auth, wait_on_rate_limit=True, wait_on_rate_limit_notify=True,\n",
    "             retry_count=5, retry_delay=100, \n",
    "            )\n",
    "\n",
    "print(\"Tweepy ready for search\")"
   ]
  },
  {
   "cell_type": "code",
   "execution_count": 6,
   "metadata": {},
   "outputs": [
    {
     "name": "stdout",
     "output_type": "stream",
     "text": [
      "China\n"
     ]
    }
   ],
   "source": [
    "statuses = api.search(q=input(), count=10)"
   ]
  },
  {
   "cell_type": "code",
   "execution_count": 7,
   "metadata": {
    "collapsed": true
   },
   "outputs": [],
   "source": [
    "def dict2df(data):\n",
    "    return pd.DataFrame(\n",
    "        list(data.items()),\n",
    "        columns=[\"item\", \"counts\"]\n",
    "    ).sort_values(\"counts\", ascending=False)\n",
    "\n",
    "def get_entities(statuses):\n",
    "    hashtags = defaultdict(int)\n",
    "    mentions = defaultdict(int)\n",
    "    keys = (\"hashtags\", \"user_mentions\")\n",
    "    for s in statuses:\n",
    "        entities = s.entities\n",
    "        if \"hashtags\" in entities:\n",
    "            e = map(lambda x: x[\"text\"], entities[\"hashtags\"])\n",
    "            for t in e:\n",
    "                hashtags[t] += 1\n",
    "        if \"user_mentions\" in entities:\n",
    "            e = map(lambda x: x[\"screen_name\"], entities[\"user_mentions\"])\n",
    "            for t in e:\n",
    "                mentions[t] += 1\n",
    "    return dict2df(hashtags), dict2df(mentions)"
   ]
  },
  {
   "cell_type": "code",
   "execution_count": 8,
   "metadata": {
    "collapsed": true
   },
   "outputs": [],
   "source": [
    "hashtags, mentions = get_entities(statuses)"
   ]
  },
  {
   "cell_type": "code",
   "execution_count": 9,
   "metadata": {},
   "outputs": [
    {
     "data": {
      "text/plain": [
       "10"
      ]
     },
     "execution_count": 9,
     "metadata": {},
     "output_type": "execute_result"
    }
   ],
   "source": [
    "len(statuses)"
   ]
  },
  {
   "cell_type": "code",
   "execution_count": 10,
   "metadata": {},
   "outputs": [
    {
     "data": {
      "text/html": [
       "<div>\n",
       "<style>\n",
       "    .dataframe thead tr:only-child th {\n",
       "        text-align: right;\n",
       "    }\n",
       "\n",
       "    .dataframe thead th {\n",
       "        text-align: left;\n",
       "    }\n",
       "\n",
       "    .dataframe tbody tr th {\n",
       "        vertical-align: top;\n",
       "    }\n",
       "</style>\n",
       "<table border=\"1\" class=\"dataframe\">\n",
       "  <thead>\n",
       "    <tr style=\"text-align: right;\">\n",
       "      <th></th>\n",
       "      <th>item</th>\n",
       "      <th>counts</th>\n",
       "    </tr>\n",
       "  </thead>\n",
       "  <tbody>\n",
       "    <tr>\n",
       "      <th>0</th>\n",
       "      <td>sensoronline</td>\n",
       "      <td>1</td>\n",
       "    </tr>\n",
       "    <tr>\n",
       "      <th>1</th>\n",
       "      <td>China</td>\n",
       "      <td>1</td>\n",
       "    </tr>\n",
       "    <tr>\n",
       "      <th>2</th>\n",
       "      <td>Rússia</td>\n",
       "      <td>1</td>\n",
       "    </tr>\n",
       "  </tbody>\n",
       "</table>\n",
       "</div>"
      ],
      "text/plain": [
       "           item  counts\n",
       "0  sensoronline       1\n",
       "1         China       1\n",
       "2        Rússia       1"
      ]
     },
     "execution_count": 10,
     "metadata": {},
     "output_type": "execute_result"
    }
   ],
   "source": [
    "hashtags"
   ]
  },
  {
   "cell_type": "code",
   "execution_count": 11,
   "metadata": {},
   "outputs": [
    {
     "data": {
      "text/html": [
       "<div>\n",
       "<style>\n",
       "    .dataframe thead tr:only-child th {\n",
       "        text-align: right;\n",
       "    }\n",
       "\n",
       "    .dataframe thead th {\n",
       "        text-align: left;\n",
       "    }\n",
       "\n",
       "    .dataframe tbody tr th {\n",
       "        vertical-align: top;\n",
       "    }\n",
       "</style>\n",
       "<table border=\"1\" class=\"dataframe\">\n",
       "  <thead>\n",
       "    <tr style=\"text-align: right;\">\n",
       "      <th></th>\n",
       "      <th>item</th>\n",
       "      <th>counts</th>\n",
       "    </tr>\n",
       "  </thead>\n",
       "  <tbody>\n",
       "    <tr>\n",
       "      <th>0</th>\n",
       "      <td>DwyaneWade</td>\n",
       "      <td>1</td>\n",
       "    </tr>\n",
       "    <tr>\n",
       "      <th>1</th>\n",
       "      <td>AereoMeteo</td>\n",
       "      <td>1</td>\n",
       "    </tr>\n",
       "    <tr>\n",
       "      <th>2</th>\n",
       "      <td>DamarJuniarto</td>\n",
       "      <td>1</td>\n",
       "    </tr>\n",
       "    <tr>\n",
       "      <th>3</th>\n",
       "      <td>AskAnshul</td>\n",
       "      <td>1</td>\n",
       "    </tr>\n",
       "    <tr>\n",
       "      <th>4</th>\n",
       "      <td>vicenews</td>\n",
       "      <td>1</td>\n",
       "    </tr>\n",
       "  </tbody>\n",
       "</table>\n",
       "</div>"
      ],
      "text/plain": [
       "            item  counts\n",
       "0     DwyaneWade       1\n",
       "1     AereoMeteo       1\n",
       "2  DamarJuniarto       1\n",
       "3      AskAnshul       1\n",
       "4       vicenews       1"
      ]
     },
     "execution_count": 11,
     "metadata": {},
     "output_type": "execute_result"
    }
   ],
   "source": [
    "mentions"
   ]
  },
  {
   "cell_type": "markdown",
   "metadata": {},
   "source": [
    "## Current user's information"
   ]
  },
  {
   "cell_type": "code",
   "execution_count": 12,
   "metadata": {},
   "outputs": [
    {
     "data": {
      "text/plain": [
       "User(_api=<tweepy.api.API object at 0x7fcfb050bac8>, _json={'id': 16621479, 'id_str': '16621479', 'name': 'Shubhanshu Mishra', 'screen_name': 'TheShubhanshu', 'location': 'Urbana, Illinois, USA', 'profile_location': None, 'description': 'PhD Student at @GSLIS @UIUC using data mining and ML. All my tweets can be used for data mining. I created ReadLater for Chrome https://t.co/rDKLiPfswZ', 'url': 'https://t.co/WfIGt6oMtT', 'entities': {'url': {'urls': [{'url': 'https://t.co/WfIGt6oMtT', 'expanded_url': 'http://shubhanshu.com', 'display_url': 'shubhanshu.com', 'indices': [0, 23]}]}, 'description': {'urls': [{'url': 'https://t.co/rDKLiPfswZ', 'expanded_url': 'http://goo.gl/AxnrBG', 'display_url': 'goo.gl/AxnrBG', 'indices': [128, 151]}]}}, 'protected': False, 'followers_count': 658, 'friends_count': 615, 'listed_count': 71, 'created_at': 'Mon Oct 06 22:27:27 +0000 2008', 'favourites_count': 95, 'utc_offset': -21600, 'time_zone': 'Central America', 'geo_enabled': True, 'verified': False, 'statuses_count': 3918, 'lang': 'en', 'status': {'created_at': 'Tue Jul 18 18:56:10 +0000 2017', 'id': 887385525388234753, 'id_str': '887385525388234753', 'text': 'Wonderful analysis which is reproducible. Code available at https://t.co/1tvbJRI1J6 https://t.co/180cMbApv2', 'truncated': False, 'entities': {'hashtags': [], 'symbols': [], 'user_mentions': [], 'urls': [{'url': 'https://t.co/1tvbJRI1J6', 'expanded_url': 'https://github.com/polygraph-cool/comics', 'display_url': 'github.com/polygraph-cool…', 'indices': [60, 83]}, {'url': 'https://t.co/180cMbApv2', 'expanded_url': 'https://twitter.com/puddingviz/status/887298644864643077', 'display_url': 'twitter.com/puddingviz/sta…', 'indices': [84, 107]}]}, 'source': '<a href=\"http://twitter.com/download/android\" rel=\"nofollow\">Twitter for Android</a>', 'in_reply_to_status_id': None, 'in_reply_to_status_id_str': None, 'in_reply_to_user_id': None, 'in_reply_to_user_id_str': None, 'in_reply_to_screen_name': None, 'geo': None, 'coordinates': None, 'place': None, 'contributors': None, 'is_quote_status': True, 'quoted_status_id': 887298644864643077, 'quoted_status_id_str': '887298644864643077', 'retweet_count': 1, 'favorite_count': 2, 'favorited': False, 'retweeted': False, 'possibly_sensitive': False, 'lang': 'en'}, 'contributors_enabled': False, 'is_translator': False, 'is_translation_enabled': False, 'profile_background_color': '030103', 'profile_background_image_url': 'http://abs.twimg.com/images/themes/theme18/bg.gif', 'profile_background_image_url_https': 'https://abs.twimg.com/images/themes/theme18/bg.gif', 'profile_background_tile': False, 'profile_image_url': 'http://pbs.twimg.com/profile_images/482000571210031104/CdTuSt_7_normal.jpeg', 'profile_image_url_https': 'https://pbs.twimg.com/profile_images/482000571210031104/CdTuSt_7_normal.jpeg', 'profile_banner_url': 'https://pbs.twimg.com/profile_banners/16621479/1404152030', 'profile_link_color': '947974', 'profile_sidebar_border_color': 'ADF1FC', 'profile_sidebar_fill_color': '000000', 'profile_text_color': 'FA8459', 'profile_use_background_image': True, 'has_extended_profile': True, 'default_profile': False, 'default_profile_image': False, 'following': False, 'follow_request_sent': False, 'notifications': False, 'translator_type': 'none', 'suspended': False, 'needs_phone_verification': False}, id=16621479, id_str='16621479', name='Shubhanshu Mishra', screen_name='TheShubhanshu', location='Urbana, Illinois, USA', profile_location=None, description='PhD Student at @GSLIS @UIUC using data mining and ML. All my tweets can be used for data mining. I created ReadLater for Chrome https://t.co/rDKLiPfswZ', url='https://t.co/WfIGt6oMtT', entities={'url': {'urls': [{'url': 'https://t.co/WfIGt6oMtT', 'expanded_url': 'http://shubhanshu.com', 'display_url': 'shubhanshu.com', 'indices': [0, 23]}]}, 'description': {'urls': [{'url': 'https://t.co/rDKLiPfswZ', 'expanded_url': 'http://goo.gl/AxnrBG', 'display_url': 'goo.gl/AxnrBG', 'indices': [128, 151]}]}}, protected=False, followers_count=658, friends_count=615, listed_count=71, created_at=datetime.datetime(2008, 10, 6, 22, 27, 27), favourites_count=95, utc_offset=-21600, time_zone='Central America', geo_enabled=True, verified=False, statuses_count=3918, lang='en', status=Status(_api=<tweepy.api.API object at 0x7fcfb050bac8>, _json={'created_at': 'Tue Jul 18 18:56:10 +0000 2017', 'id': 887385525388234753, 'id_str': '887385525388234753', 'text': 'Wonderful analysis which is reproducible. Code available at https://t.co/1tvbJRI1J6 https://t.co/180cMbApv2', 'truncated': False, 'entities': {'hashtags': [], 'symbols': [], 'user_mentions': [], 'urls': [{'url': 'https://t.co/1tvbJRI1J6', 'expanded_url': 'https://github.com/polygraph-cool/comics', 'display_url': 'github.com/polygraph-cool…', 'indices': [60, 83]}, {'url': 'https://t.co/180cMbApv2', 'expanded_url': 'https://twitter.com/puddingviz/status/887298644864643077', 'display_url': 'twitter.com/puddingviz/sta…', 'indices': [84, 107]}]}, 'source': '<a href=\"http://twitter.com/download/android\" rel=\"nofollow\">Twitter for Android</a>', 'in_reply_to_status_id': None, 'in_reply_to_status_id_str': None, 'in_reply_to_user_id': None, 'in_reply_to_user_id_str': None, 'in_reply_to_screen_name': None, 'geo': None, 'coordinates': None, 'place': None, 'contributors': None, 'is_quote_status': True, 'quoted_status_id': 887298644864643077, 'quoted_status_id_str': '887298644864643077', 'retweet_count': 1, 'favorite_count': 2, 'favorited': False, 'retweeted': False, 'possibly_sensitive': False, 'lang': 'en'}, created_at=datetime.datetime(2017, 7, 18, 18, 56, 10), id=887385525388234753, id_str='887385525388234753', text='Wonderful analysis which is reproducible. Code available at https://t.co/1tvbJRI1J6 https://t.co/180cMbApv2', truncated=False, entities={'hashtags': [], 'symbols': [], 'user_mentions': [], 'urls': [{'url': 'https://t.co/1tvbJRI1J6', 'expanded_url': 'https://github.com/polygraph-cool/comics', 'display_url': 'github.com/polygraph-cool…', 'indices': [60, 83]}, {'url': 'https://t.co/180cMbApv2', 'expanded_url': 'https://twitter.com/puddingviz/status/887298644864643077', 'display_url': 'twitter.com/puddingviz/sta…', 'indices': [84, 107]}]}, source='Twitter for Android', source_url='http://twitter.com/download/android', in_reply_to_status_id=None, in_reply_to_status_id_str=None, in_reply_to_user_id=None, in_reply_to_user_id_str=None, in_reply_to_screen_name=None, geo=None, coordinates=None, place=None, contributors=None, is_quote_status=True, quoted_status_id=887298644864643077, quoted_status_id_str='887298644864643077', retweet_count=1, favorite_count=2, favorited=False, retweeted=False, possibly_sensitive=False, lang='en'), contributors_enabled=False, is_translator=False, is_translation_enabled=False, profile_background_color='030103', profile_background_image_url='http://abs.twimg.com/images/themes/theme18/bg.gif', profile_background_image_url_https='https://abs.twimg.com/images/themes/theme18/bg.gif', profile_background_tile=False, profile_image_url='http://pbs.twimg.com/profile_images/482000571210031104/CdTuSt_7_normal.jpeg', profile_image_url_https='https://pbs.twimg.com/profile_images/482000571210031104/CdTuSt_7_normal.jpeg', profile_banner_url='https://pbs.twimg.com/profile_banners/16621479/1404152030', profile_link_color='947974', profile_sidebar_border_color='ADF1FC', profile_sidebar_fill_color='000000', profile_text_color='FA8459', profile_use_background_image=True, has_extended_profile=True, default_profile=False, default_profile_image=False, following=False, follow_request_sent=False, notifications=False, translator_type='none', suspended=False, needs_phone_verification=False)"
      ]
     },
     "execution_count": 12,
     "metadata": {},
     "output_type": "execute_result"
    }
   ],
   "source": [
    "current_user = api.me()\n",
    "current_user"
   ]
  },
  {
   "cell_type": "code",
   "execution_count": 13,
   "metadata": {},
   "outputs": [
    {
     "name": "stdout",
     "output_type": "stream",
     "text": [
      "Username: TheShubhanshu\n",
      "Full Name: Shubhanshu Mishra\n",
      "# Followers: 658\n",
      "# Friends: 615\n",
      "# Statuses: 3918\n"
     ]
    }
   ],
   "source": [
    "print(\n",
    "\"\"\"Username: {}\n",
    "Full Name: {}\n",
    "# Followers: {}\n",
    "# Friends: {}\n",
    "# Statuses: {}\"\"\".format(\n",
    "        current_user.screen_name,\n",
    "        current_user.name,\n",
    "        current_user.followers_count,\n",
    "        current_user.friends_count,\n",
    "        current_user.statuses_count\n",
    "    )\n",
    ")"
   ]
  },
  {
   "cell_type": "markdown",
   "metadata": {
    "collapsed": true
   },
   "source": [
    "## Friends API"
   ]
  },
  {
   "cell_type": "code",
   "execution_count": 14,
   "metadata": {},
   "outputs": [
    {
     "name": "stdout",
     "output_type": "stream",
     "text": [
      "615 friends found for Shubhanshu Mishra\n"
     ]
    }
   ],
   "source": [
    "friends = []\n",
    "for friend in tw.Cursor(api.friends, count=100).items():\n",
    "    friends.append(friend)\n",
    "print(\"{} friends found for {}\".format(len(friends), current_user.name))"
   ]
  },
  {
   "cell_type": "code",
   "execution_count": 15,
   "metadata": {},
   "outputs": [
    {
     "data": {
      "text/html": [
       "<div>\n",
       "<style>\n",
       "    .dataframe thead tr:only-child th {\n",
       "        text-align: right;\n",
       "    }\n",
       "\n",
       "    .dataframe thead th {\n",
       "        text-align: left;\n",
       "    }\n",
       "\n",
       "    .dataframe tbody tr th {\n",
       "        vertical-align: top;\n",
       "    }\n",
       "</style>\n",
       "<table border=\"1\" class=\"dataframe\">\n",
       "  <thead>\n",
       "    <tr style=\"text-align: right;\">\n",
       "      <th></th>\n",
       "      <th>id</th>\n",
       "      <th>name</th>\n",
       "      <th>friends</th>\n",
       "      <th>followers</th>\n",
       "      <th>statuses</th>\n",
       "    </tr>\n",
       "  </thead>\n",
       "  <tbody>\n",
       "    <tr>\n",
       "      <th>0</th>\n",
       "      <td>813286</td>\n",
       "      <td>Barack Obama</td>\n",
       "      <td>628999</td>\n",
       "      <td>91975795</td>\n",
       "      <td>15450</td>\n",
       "    </tr>\n",
       "    <tr>\n",
       "      <th>1</th>\n",
       "      <td>50393960</td>\n",
       "      <td>Bill Gates</td>\n",
       "      <td>183</td>\n",
       "      <td>36249061</td>\n",
       "      <td>2423</td>\n",
       "    </tr>\n",
       "    <tr>\n",
       "      <th>2</th>\n",
       "      <td>88856792</td>\n",
       "      <td>Aamir Khan</td>\n",
       "      <td>9</td>\n",
       "      <td>21426245</td>\n",
       "      <td>475</td>\n",
       "    </tr>\n",
       "    <tr>\n",
       "      <th>3</th>\n",
       "      <td>822215679726100480</td>\n",
       "      <td>President Trump</td>\n",
       "      <td>42</td>\n",
       "      <td>19411685</td>\n",
       "      <td>900</td>\n",
       "    </tr>\n",
       "    <tr>\n",
       "      <th>4</th>\n",
       "      <td>20536157</td>\n",
       "      <td>Google</td>\n",
       "      <td>205</td>\n",
       "      <td>18428159</td>\n",
       "      <td>73344</td>\n",
       "    </tr>\n",
       "  </tbody>\n",
       "</table>\n",
       "</div>"
      ],
      "text/plain": [
       "                   id             name  friends  followers  statuses\n",
       "0              813286     Barack Obama   628999   91975795     15450\n",
       "1            50393960       Bill Gates      183   36249061      2423\n",
       "2            88856792       Aamir Khan        9   21426245       475\n",
       "3  822215679726100480  President Trump       42   19411685       900\n",
       "4            20536157           Google      205   18428159     73344"
      ]
     },
     "execution_count": 15,
     "metadata": {},
     "output_type": "execute_result"
    }
   ],
   "source": [
    "df_friends = pd.DataFrame(\n",
    "    list(map(\n",
    "        lambda k: (k.id, k.name, k.friends_count, k.followers_count, k.statuses_count),\n",
    "        friends\n",
    "    )), columns=[\"id\", \"name\", \"friends\", \"followers\", \"statuses\"]\n",
    ").sort_values(\"followers\", ascending=False).reset_index(drop=True)\n",
    "df_friends.head()"
   ]
  },
  {
   "cell_type": "code",
   "execution_count": 16,
   "metadata": {},
   "outputs": [
    {
     "data": {
      "text/plain": [
       "(615, 615)"
      ]
     },
     "execution_count": 16,
     "metadata": {},
     "output_type": "execute_result"
    }
   ],
   "source": [
    "network = np.zeros([df_friends.shape[0], df_friends.shape[0]])\n",
    "network.shape"
   ]
  },
  {
   "cell_type": "code",
   "execution_count": 17,
   "metadata": {
    "collapsed": true
   },
   "outputs": [],
   "source": [
    "api.show_friendship?"
   ]
  },
  {
   "cell_type": "code",
   "execution_count": 18,
   "metadata": {},
   "outputs": [
    {
     "data": {
      "text/plain": [
       "'3.5.0'"
      ]
     },
     "execution_count": 18,
     "metadata": {},
     "output_type": "execute_result"
    }
   ],
   "source": [
    "tw.__version__"
   ]
  },
  {
   "cell_type": "code",
   "execution_count": 19,
   "metadata": {
    "collapsed": true
   },
   "outputs": [],
   "source": [
    "def get_friendship(id1, id2, verbose=False):\n",
    "    response = api.show_friendship(source_id=id1, target_id=id2)\n",
    "    if verbose:\n",
    "        print(response)\n",
    "    return response[0].following, response[1].following\n",
    "    "
   ]
  },
  {
   "cell_type": "code",
   "execution_count": 20,
   "metadata": {},
   "outputs": [
    {
     "name": "stdout",
     "output_type": "stream",
     "text": [
      "(Friendship(_api=<tweepy.api.API object at 0x7fcfb050bac8>, id=813286, id_str='813286', screen_name='BarackObama', following=False, followed_by=True, live_following=False, following_received=None, following_requested=None, notifications_enabled=None, can_dm=True, blocking=None, blocked_by=None, muting=None, want_retweets=None, all_replies=None, marked_spam=None), Friendship(_api=<tweepy.api.API object at 0x7fcfb050bac8>, id=50393960, id_str='50393960', screen_name='BillGates', following=True, followed_by=False, following_received=None, following_requested=None))\n"
     ]
    },
    {
     "data": {
      "text/plain": [
       "(False, True)"
      ]
     },
     "execution_count": 20,
     "metadata": {},
     "output_type": "execute_result"
    }
   ],
   "source": [
    "get_friendship(df_friends[\"id\"].values[0], df_friends[\"id\"].values[1], verbose=True)"
   ]
  },
  {
   "cell_type": "code",
   "execution_count": 21,
   "metadata": {},
   "outputs": [
    {
     "data": {
      "text/plain": [
       "array([ 0.,  1.,  0.])"
      ]
     },
     "execution_count": 21,
     "metadata": {},
     "output_type": "execute_result"
    }
   ],
   "source": [
    "network[0, 0] = False\n",
    "network[1, 0] = True\n",
    "network[0:3, 0]"
   ]
  },
  {
   "cell_type": "code",
   "execution_count": 22,
   "metadata": {
    "collapsed": true
   },
   "outputs": [],
   "source": [
    "def generate_ego_network(df_friends):\n",
    "    network = np.zeros([df_friends.shape[0], df_friends.shape[0]])\n",
    "    processed_friendships=0\n",
    "    for i, fid1 in enumerate(df_friends[\"id\"].values):\n",
    "        for j, fid2 in enumerate(df_friends[\"id\"].values[i+1:], start=i+1):\n",
    "            try:\n",
    "                tie_labels = get_friendship(fid1, fid2)\n",
    "                processed_friendships += 1\n",
    "            except:\n",
    "                print(\"Processed friendships = {}\".format(processed_friendships))\n",
    "                print(\"Error occurred\")\n",
    "                return network\n",
    "            network[i, j] = tie_labels[0]\n",
    "            network[j, i] = tie_labels[1]\n",
    "    return network"
   ]
  },
  {
   "cell_type": "code",
   "execution_count": 23,
   "metadata": {},
   "outputs": [
    {
     "data": {
      "text/html": [
       "<div>\n",
       "<style>\n",
       "    .dataframe thead tr:only-child th {\n",
       "        text-align: right;\n",
       "    }\n",
       "\n",
       "    .dataframe thead th {\n",
       "        text-align: left;\n",
       "    }\n",
       "\n",
       "    .dataframe tbody tr th {\n",
       "        vertical-align: top;\n",
       "    }\n",
       "</style>\n",
       "<table border=\"1\" class=\"dataframe\">\n",
       "  <thead>\n",
       "    <tr style=\"text-align: right;\">\n",
       "      <th></th>\n",
       "      <th>id</th>\n",
       "      <th>name</th>\n",
       "      <th>friends</th>\n",
       "      <th>followers</th>\n",
       "      <th>statuses</th>\n",
       "    </tr>\n",
       "  </thead>\n",
       "  <tbody>\n",
       "    <tr>\n",
       "      <th>610</th>\n",
       "      <td>709866998604419072</td>\n",
       "      <td>ICSS2016</td>\n",
       "      <td>15</td>\n",
       "      <td>19</td>\n",
       "      <td>28</td>\n",
       "    </tr>\n",
       "    <tr>\n",
       "      <th>611</th>\n",
       "      <td>217524967</td>\n",
       "      <td>Shubhanshu Mishra</td>\n",
       "      <td>3</td>\n",
       "      <td>12</td>\n",
       "      <td>382</td>\n",
       "    </tr>\n",
       "    <tr>\n",
       "      <th>612</th>\n",
       "      <td>862776294441984000</td>\n",
       "      <td>Christopher De Sa</td>\n",
       "      <td>8</td>\n",
       "      <td>11</td>\n",
       "      <td>1</td>\n",
       "    </tr>\n",
       "    <tr>\n",
       "      <th>613</th>\n",
       "      <td>492698838</td>\n",
       "      <td>LiveLifeLikeAJive</td>\n",
       "      <td>9</td>\n",
       "      <td>1</td>\n",
       "      <td>0</td>\n",
       "    </tr>\n",
       "    <tr>\n",
       "      <th>614</th>\n",
       "      <td>4330080442</td>\n",
       "      <td>Sudhanshu Mishra</td>\n",
       "      <td>21</td>\n",
       "      <td>1</td>\n",
       "      <td>0</td>\n",
       "    </tr>\n",
       "  </tbody>\n",
       "</table>\n",
       "</div>"
      ],
      "text/plain": [
       "                     id               name  friends  followers  statuses\n",
       "610  709866998604419072           ICSS2016       15         19        28\n",
       "611           217524967  Shubhanshu Mishra        3         12       382\n",
       "612  862776294441984000  Christopher De Sa        8         11         1\n",
       "613           492698838  LiveLifeLikeAJive        9          1         0\n",
       "614          4330080442   Sudhanshu Mishra       21          1         0"
      ]
     },
     "execution_count": 23,
     "metadata": {},
     "output_type": "execute_result"
    }
   ],
   "source": [
    "df_friends.tail()"
   ]
  },
  {
   "cell_type": "markdown",
   "metadata": {},
   "source": [
    "## Generate user mention network"
   ]
  },
  {
   "cell_type": "code",
   "execution_count": 24,
   "metadata": {},
   "outputs": [
    {
     "name": "stdout",
     "output_type": "stream",
     "text": [
      "Donald Trump\n"
     ]
    }
   ],
   "source": [
    "statuses = [status for status in tw.Cursor(api.search, q=input(), count=1000).items(1000)]"
   ]
  },
  {
   "cell_type": "code",
   "execution_count": 25,
   "metadata": {},
   "outputs": [
    {
     "data": {
      "text/plain": [
       "1000"
      ]
     },
     "execution_count": 25,
     "metadata": {},
     "output_type": "execute_result"
    }
   ],
   "source": [
    "len(statuses)"
   ]
  },
  {
   "cell_type": "code",
   "execution_count": 26,
   "metadata": {},
   "outputs": [],
   "source": [
    "status = next(filter(lambda x: len(x.entities[\"hashtags\"]), statuses))"
   ]
  },
  {
   "cell_type": "code",
   "execution_count": 27,
   "metadata": {},
   "outputs": [
    {
     "data": {
      "text/plain": [
       "{'hashtags': [{'indices': [112, 126], 'text': 'RespectMyVote'}],\n",
       " 'symbols': [],\n",
       " 'urls': [],\n",
       " 'user_mentions': [{'id': 525925642,\n",
       "   'id_str': '525925642',\n",
       "   'indices': [3, 14],\n",
       "   'name': 'Buddy #DemForce',\n",
       "   'screen_name': 'MrBudSmith'}]}"
      ]
     },
     "execution_count": 27,
     "metadata": {},
     "output_type": "execute_result"
    }
   ],
   "source": [
    "status.entities"
   ]
  },
  {
   "cell_type": "code",
   "execution_count": 28,
   "metadata": {
    "collapsed": true
   },
   "outputs": [],
   "source": [
    "def get_hashtags(statuses):\n",
    "    hashtag_counts = defaultdict(int)\n",
    "    hashtag_network = defaultdict(int)\n",
    "    for status in statuses:\n",
    "        for i, hashtag in enumerate(status.entities[\"hashtags\"]):\n",
    "            hashtag_counts[hashtag[\"text\"]] += 1\n",
    "            for j, hashtag_2 in enumerate(status.entities[\"hashtags\"][i+1:], start=i+1):\n",
    "                hashtag_network[(hashtag[\"text\"],hashtag_2[\"text\"])] += 1\n",
    "    return hashtag_counts, hashtag_network"
   ]
  },
  {
   "cell_type": "code",
   "execution_count": 29,
   "metadata": {},
   "outputs": [],
   "source": [
    "hashtag_counts, hashtag_network = get_hashtags(statuses)"
   ]
  },
  {
   "cell_type": "code",
   "execution_count": 30,
   "metadata": {},
   "outputs": [
    {
     "data": {
      "text/html": [
       "<div>\n",
       "<style>\n",
       "    .dataframe thead tr:only-child th {\n",
       "        text-align: right;\n",
       "    }\n",
       "\n",
       "    .dataframe thead th {\n",
       "        text-align: left;\n",
       "    }\n",
       "\n",
       "    .dataframe tbody tr th {\n",
       "        vertical-align: top;\n",
       "    }\n",
       "</style>\n",
       "<table border=\"1\" class=\"dataframe\">\n",
       "  <thead>\n",
       "    <tr style=\"text-align: right;\">\n",
       "      <th></th>\n",
       "      <th>hashtag</th>\n",
       "      <th>counts</th>\n",
       "    </tr>\n",
       "  </thead>\n",
       "  <tbody>\n",
       "    <tr>\n",
       "      <th>0</th>\n",
       "      <td>TrumpRussia</td>\n",
       "      <td>20</td>\n",
       "    </tr>\n",
       "    <tr>\n",
       "      <th>1</th>\n",
       "      <td>RespectMyVote</td>\n",
       "      <td>19</td>\n",
       "    </tr>\n",
       "    <tr>\n",
       "      <th>2</th>\n",
       "      <td>Trump</td>\n",
       "      <td>10</td>\n",
       "    </tr>\n",
       "    <tr>\n",
       "      <th>3</th>\n",
       "      <td>DonaldTrump</td>\n",
       "      <td>7</td>\n",
       "    </tr>\n",
       "    <tr>\n",
       "      <th>4</th>\n",
       "      <td>EpicFail</td>\n",
       "      <td>7</td>\n",
       "    </tr>\n",
       "  </tbody>\n",
       "</table>\n",
       "</div>"
      ],
      "text/plain": [
       "         hashtag  counts\n",
       "0    TrumpRussia      20\n",
       "1  RespectMyVote      19\n",
       "2          Trump      10\n",
       "3    DonaldTrump       7\n",
       "4       EpicFail       7"
      ]
     },
     "execution_count": 30,
     "metadata": {},
     "output_type": "execute_result"
    }
   ],
   "source": [
    "df_hashtags = pd.DataFrame(list(hashtag_counts.items()),\n",
    "                           columns=[\"hashtag\", \"counts\"]).sort_values(\n",
    "    \"counts\", ascending=False\n",
    ").reset_index(drop=True)\n",
    "df_hashtags.head()"
   ]
  },
  {
   "cell_type": "code",
   "execution_count": 31,
   "metadata": {},
   "outputs": [
    {
     "data": {
      "text/html": [
       "<div>\n",
       "<style>\n",
       "    .dataframe thead tr:only-child th {\n",
       "        text-align: right;\n",
       "    }\n",
       "\n",
       "    .dataframe thead th {\n",
       "        text-align: left;\n",
       "    }\n",
       "\n",
       "    .dataframe tbody tr th {\n",
       "        vertical-align: top;\n",
       "    }\n",
       "</style>\n",
       "<table border=\"1\" class=\"dataframe\">\n",
       "  <thead>\n",
       "    <tr style=\"text-align: right;\">\n",
       "      <th></th>\n",
       "      <th>hashtag</th>\n",
       "      <th>counts</th>\n",
       "    </tr>\n",
       "  </thead>\n",
       "  <tbody>\n",
       "    <tr>\n",
       "      <th>0</th>\n",
       "      <td>TrumpRussia</td>\n",
       "      <td>20</td>\n",
       "    </tr>\n",
       "    <tr>\n",
       "      <th>1</th>\n",
       "      <td>RespectMyVote</td>\n",
       "      <td>19</td>\n",
       "    </tr>\n",
       "    <tr>\n",
       "      <th>2</th>\n",
       "      <td>Trump</td>\n",
       "      <td>10</td>\n",
       "    </tr>\n",
       "    <tr>\n",
       "      <th>3</th>\n",
       "      <td>DonaldTrump</td>\n",
       "      <td>7</td>\n",
       "    </tr>\n",
       "    <tr>\n",
       "      <th>4</th>\n",
       "      <td>EpicFail</td>\n",
       "      <td>7</td>\n",
       "    </tr>\n",
       "  </tbody>\n",
       "</table>\n",
       "</div>"
      ],
      "text/plain": [
       "         hashtag  counts\n",
       "0    TrumpRussia      20\n",
       "1  RespectMyVote      19\n",
       "2          Trump      10\n",
       "3    DonaldTrump       7\n",
       "4       EpicFail       7"
      ]
     },
     "execution_count": 31,
     "metadata": {},
     "output_type": "execute_result"
    }
   ],
   "source": [
    "df_hashtags = pd.DataFrame(list(hashtag_counts.items()),\n",
    "                           columns=[\"hashtag\", \"counts\"]).sort_values(\n",
    "    \"counts\", ascending=False\n",
    ").reset_index(drop=True)\n",
    "df_hashtags.head()"
   ]
  },
  {
   "cell_type": "code",
   "execution_count": 32,
   "metadata": {},
   "outputs": [
    {
     "data": {
      "text/html": [
       "<div>\n",
       "<style>\n",
       "    .dataframe thead tr:only-child th {\n",
       "        text-align: right;\n",
       "    }\n",
       "\n",
       "    .dataframe thead th {\n",
       "        text-align: left;\n",
       "    }\n",
       "\n",
       "    .dataframe tbody tr th {\n",
       "        vertical-align: top;\n",
       "    }\n",
       "</style>\n",
       "<table border=\"1\" class=\"dataframe\">\n",
       "  <thead>\n",
       "    <tr style=\"text-align: right;\">\n",
       "      <th></th>\n",
       "      <th>hashtag1</th>\n",
       "      <th>hashtag2</th>\n",
       "      <th>counts</th>\n",
       "    </tr>\n",
       "  </thead>\n",
       "  <tbody>\n",
       "    <tr>\n",
       "      <th>0</th>\n",
       "      <td>Trumpcare</td>\n",
       "      <td>EpicFail</td>\n",
       "      <td>7</td>\n",
       "    </tr>\n",
       "    <tr>\n",
       "      <th>1</th>\n",
       "      <td>GOPhealthcare</td>\n",
       "      <td>Trumpcare</td>\n",
       "      <td>7</td>\n",
       "    </tr>\n",
       "    <tr>\n",
       "      <th>2</th>\n",
       "      <td>GOPhealthcare</td>\n",
       "      <td>EpicFail</td>\n",
       "      <td>7</td>\n",
       "    </tr>\n",
       "    <tr>\n",
       "      <th>3</th>\n",
       "      <td>Trump</td>\n",
       "      <td>DonaldTrump</td>\n",
       "      <td>3</td>\n",
       "    </tr>\n",
       "    <tr>\n",
       "      <th>4</th>\n",
       "      <td>pictures</td>\n",
       "      <td>Trump</td>\n",
       "      <td>3</td>\n",
       "    </tr>\n",
       "  </tbody>\n",
       "</table>\n",
       "</div>"
      ],
      "text/plain": [
       "        hashtag1     hashtag2  counts\n",
       "0      Trumpcare     EpicFail       7\n",
       "1  GOPhealthcare    Trumpcare       7\n",
       "2  GOPhealthcare     EpicFail       7\n",
       "3          Trump  DonaldTrump       3\n",
       "4       pictures        Trump       3"
      ]
     },
     "execution_count": 32,
     "metadata": {},
     "output_type": "execute_result"
    }
   ],
   "source": [
    "df_hashtag_pairs = pd.DataFrame([(k1, k2, v) for (k1,k2), v in hashtag_network.items()],\n",
    "                           columns=[\"hashtag1\", \"hashtag2\", \"counts\"]).sort_values(\n",
    "    \"counts\", ascending=False\n",
    ").reset_index(drop=True)\n",
    "df_hashtag_pairs.head()"
   ]
  },
  {
   "cell_type": "markdown",
   "metadata": {},
   "source": [
    "## Plot network"
   ]
  },
  {
   "cell_type": "code",
   "execution_count": 34,
   "metadata": {},
   "outputs": [],
   "source": [
    "G = nx.Graph()"
   ]
  },
  {
   "cell_type": "code",
   "execution_count": 36,
   "metadata": {
    "collapsed": true
   },
   "outputs": [],
   "source": [
    "G.add_nodes_from(hashtag_counts)"
   ]
  },
  {
   "cell_type": "code",
   "execution_count": 39,
   "metadata": {},
   "outputs": [],
   "source": [
    "G.add_edges_from([\n",
    "    (k[0], k[1], {\"weight\": v})\n",
    "    for k, v in hashtag_network.items()\n",
    "])"
   ]
  },
  {
   "cell_type": "code",
   "execution_count": 43,
   "metadata": {},
   "outputs": [
    {
     "data": {
      "text/plain": [
       "(-0.098458876381625468,\n",
       " 1.1019533266773878,\n",
       " -0.10400457878596207,\n",
       " 1.103695761756587)"
      ]
     },
     "execution_count": 43,
     "metadata": {},
     "output_type": "execute_result"
    },
    {
     "name": "stderr",
     "output_type": "stream",
     "text": [
      "/home/napsternxg/anaconda3/envs/get17_sna/lib/python3.6/site-packages/matplotlib/font_manager.py:1297: UserWarning: findfont: Font family ['sans-serif'] not found. Falling back to DejaVu Sans\n",
      "  (prop.get_family(), self.defaultFamily[fontext]))\n"
     ]
    },
    {
     "data": {
      "image/png": "[encoded data removed]",
      "text/plain": [
       "<matplotlib.figure.Figure at 0x7fcf7d6c8e48>"
      ]
     },
     "metadata": {},
     "output_type": "display_data"
    }
   ],
   "source": [
    "fig, ax = plt.subplots(1,1)\n",
    "nx.draw_networkx(\n",
    "    G, with_labels=True,\n",
    "    node_size=[x[1]*3 for x in G.degree_iter()],\n",
    "    pos=nx.spring_layout(G),\n",
    "    ax=ax\n",
    ")\n",
    "ax.axis(\"off\")"
   ]
  },
  {
   "cell_type": "code",
   "execution_count": 44,
   "metadata": {},
   "outputs": [
    {
     "name": "stdout",
     "output_type": "stream",
     "text": [
      "47 connected components found.\n"
     ]
    }
   ],
   "source": [
    "connected_components = sorted(nx.connected_component_subgraphs(G), key = len, reverse=True)\n",
    "print(\"{} connected components found.\".format(len(connected_components)))"
   ]
  },
  {
   "cell_type": "code",
   "execution_count": 46,
   "metadata": {},
   "outputs": [
    {
     "data": {
      "text/plain": [
       "(-0.10500000000000001, 1.105, -0.098346338622802648, 1.0349781350304468)"
      ]
     },
     "execution_count": 46,
     "metadata": {},
     "output_type": "execute_result"
    },
    {
     "name": "stderr",
     "output_type": "stream",
     "text": [
      "/home/napsternxg/anaconda3/envs/get17_sna/lib/python3.6/site-packages/matplotlib/font_manager.py:1297: UserWarning: findfont: Font family ['sans-serif'] not found. Falling back to DejaVu Sans\n",
      "  (prop.get_family(), self.defaultFamily[fontext]))\n"
     ]
    },
    {
     "data": {
      "image/png": "[encoded data removed]",
      "text/plain": [
       "<matplotlib.figure.Figure at 0x7fcf7c081d68>"
      ]
     },
     "metadata": {},
     "output_type": "display_data"
    }
   ],
   "source": [
    "fig, ax = plt.subplots(1,1)\n",
    "nx.draw_networkx(\n",
    "    connected_components[0], with_labels=True,\n",
    "    node_size=[x[1]*5 for x in connected_components[0].degree_iter()],\n",
    "    pos=nx.spring_layout(connected_components[0]),\n",
    "    ax=ax\n",
    ")\n",
    "ax.axis(\"off\")"
   ]
  },
  {
   "cell_type": "code",
   "execution_count": null,
   "metadata": {
    "collapsed": true
   },
   "outputs": [],
   "source": []
  }
 ],
 "metadata": {
  "anaconda-cloud": {},
  "kernelspec": {
   "display_name": "Python 3",
   "language": "python",
   "name": "python3"
  },
  "language_info": {
   "codemirror_mode": {
    "name": "ipython",
    "version": 3
   },
   "file_extension": ".py",
   "mimetype": "text/x-python",
   "name": "python",
   "nbconvert_exporter": "python",
   "pygments_lexer": "ipython3",
   "version": "3.6.1"
  }
 },
 "nbformat": 4,
 "nbformat_minor": 1
}
